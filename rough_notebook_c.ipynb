{
 "cells": [
  {
   "cell_type": "code",
   "execution_count": 1,
   "id": "a222ea7d",
   "metadata": {},
   "outputs": [],
   "source": [
    "import re, os\n",
    "import unicodedata\n",
    "import pandas as pd\n",
    "import seaborn as sns\n",
    "import matplotlib.pyplot as plt\n",
    "import nltk\n",
    "import nltk.sentiment\n",
    "\n",
    "from wordcloud import WordCloud\n",
    "\n",
    "from acquire_c import *\n",
    "from prepare_c import *\n",
    "from explore_c import *\n",
    "\n",
    "plt.rc('figure', figsize=(13, 7))\n",
    "plt.style.use('seaborn-darkgrid')"
   ]
  },
  {
   "cell_type": "markdown",
   "id": "24f9934c",
   "metadata": {},
   "source": [
    "## Acquire data and find the dominant language in each row"
   ]
  },
  {
   "cell_type": "code",
   "execution_count": null,
   "id": "1ebd99db",
   "metadata": {},
   "outputs": [],
   "source": [
    "# You can pass a threshold argument but the default is 75\n",
    "df = get_readme_data()"
   ]
  },
  {
   "cell_type": "code",
   "execution_count": null,
   "id": "fbb0a6fb",
   "metadata": {},
   "outputs": [],
   "source": [
    "df.head()"
   ]
  },
  {
   "cell_type": "markdown",
   "id": "ae416445",
   "metadata": {},
   "source": [
    "### We need to set a threshold to check for each programming language within each README row"
   ]
  }
 ],
 "metadata": {
  "kernelspec": {
   "display_name": "Python 3",
   "language": "python",
   "name": "python3"
  },
  "language_info": {
   "codemirror_mode": {
    "name": "ipython",
    "version": 3
   },
   "file_extension": ".py",
   "mimetype": "text/x-python",
   "name": "python",
   "nbconvert_exporter": "python",
   "pygments_lexer": "ipython3",
   "version": "3.8.8"
  }
 },
 "nbformat": 4,
 "nbformat_minor": 5
}
