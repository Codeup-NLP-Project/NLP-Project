{
 "cells": [
  {
   "cell_type": "code",
   "execution_count": 1,
   "id": "a0ceb999",
   "metadata": {},
   "outputs": [],
   "source": [
    "import re, os\n",
    "import unicodedata\n",
    "import pandas as pd\n",
    "import seaborn as sns\n",
    "import matplotlib.pyplot as plt\n",
    "import nltk\n",
    "import nltk.sentiment\n",
    "\n",
    "from wordcloud import WordCloud\n",
    "\n",
    "from acquire_c import *\n",
    "from prepare_c import *\n",
    "from explore_c import *\n",
    "\n",
    "plt.rc('figure', figsize=(13, 7))\n",
    "plt.style.use('seaborn-darkgrid')"
   ]
  },
  {
   "cell_type": "markdown",
   "id": "a38ec46f",
   "metadata": {},
   "source": [
    "### Acquire the Data"
   ]
  },
  {
   "cell_type": "code",
   "execution_count": 2,
   "id": "6ee6ffd7",
   "metadata": {},
   "outputs": [
    {
     "data": {
      "text/html": [
       "<div>\n",
       "<style scoped>\n",
       "    .dataframe tbody tr th:only-of-type {\n",
       "        vertical-align: middle;\n",
       "    }\n",
       "\n",
       "    .dataframe tbody tr th {\n",
       "        vertical-align: top;\n",
       "    }\n",
       "\n",
       "    .dataframe thead th {\n",
       "        text-align: right;\n",
       "    }\n",
       "</style>\n",
       "<table border=\"1\" class=\"dataframe\">\n",
       "  <thead>\n",
       "    <tr style=\"text-align: right;\">\n",
       "      <th></th>\n",
       "      <th>readme</th>\n",
       "      <th>prog_lang</th>\n",
       "      <th>original</th>\n",
       "      <th>stemmed</th>\n",
       "      <th>lemmatized</th>\n",
       "    </tr>\n",
       "  </thead>\n",
       "  <tbody>\n",
       "    <tr>\n",
       "      <th>0</th>\n",
       "      <td>wip</td>\n",
       "      <td>JavaScript</td>\n",
       "      <td>🚧  WIP</td>\n",
       "      <td>wip</td>\n",
       "      <td>wip</td>\n",
       "    </tr>\n",
       "    <tr>\n",
       "      <th>1</th>\n",
       "      <td>abhisheknaiidu cli table contents installation...</td>\n",
       "      <td>JavaScript</td>\n",
       "      <td>abhisheknaiidu The   CLI Table of Contents Ins...</td>\n",
       "      <td>abhisheknaiidu cli tabl content instal built l...</td>\n",
       "      <td>abhisheknaiidu cli table content installation ...</td>\n",
       "    </tr>\n",
       "    <tr>\n",
       "      <th>2</th>\n",
       "      <td>interview preparation arrays sieve catalan num...</td>\n",
       "      <td>C++</td>\n",
       "      <td>Interview Preparation Arrays  Sieve  Catalan N...</td>\n",
       "      <td>interview prepar array siev catalan number sli...</td>\n",
       "      <td>interview preparation array sieve catalan numb...</td>\n",
       "    </tr>\n",
       "    <tr>\n",
       "      <th>3</th>\n",
       "      <td>hacktoberfest 2020 hacktoberfest encourages pa...</td>\n",
       "      <td>JavaScript</td>\n",
       "      <td>Hacktoberfest 2020  🎉 🗣  Hacktoberfest encour...</td>\n",
       "      <td>hacktoberfest 2020 hacktoberfest encourag part...</td>\n",
       "      <td>hacktoberfest 2020 hacktoberfest encourages pa...</td>\n",
       "    </tr>\n",
       "    <tr>\n",
       "      <th>4</th>\n",
       "      <td>apop apop hd music stream sharing application ...</td>\n",
       "      <td>JavaScript</td>\n",
       "      <td>A-POP  🎶 A-POP  is a HD Music Stream and Shar...</td>\n",
       "      <td>apop apop hd music stream share applic built o...</td>\n",
       "      <td>apop apop hd music stream sharing application ...</td>\n",
       "    </tr>\n",
       "  </tbody>\n",
       "</table>\n",
       "</div>"
      ],
      "text/plain": [
       "                                              readme   prog_lang  \\\n",
       "0                                                wip  JavaScript   \n",
       "1  abhisheknaiidu cli table contents installation...  JavaScript   \n",
       "2  interview preparation arrays sieve catalan num...         C++   \n",
       "3  hacktoberfest 2020 hacktoberfest encourages pa...  JavaScript   \n",
       "4  apop apop hd music stream sharing application ...  JavaScript   \n",
       "\n",
       "                                            original  \\\n",
       "0                                             🚧  WIP   \n",
       "1  abhisheknaiidu The   CLI Table of Contents Ins...   \n",
       "2  Interview Preparation Arrays  Sieve  Catalan N...   \n",
       "3   Hacktoberfest 2020  🎉 🗣  Hacktoberfest encour...   \n",
       "4   A-POP  🎶 A-POP  is a HD Music Stream and Shar...   \n",
       "\n",
       "                                             stemmed  \\\n",
       "0                                                wip   \n",
       "1  abhisheknaiidu cli tabl content instal built l...   \n",
       "2  interview prepar array siev catalan number sli...   \n",
       "3  hacktoberfest 2020 hacktoberfest encourag part...   \n",
       "4  apop apop hd music stream share applic built o...   \n",
       "\n",
       "                                          lemmatized  \n",
       "0                                                wip  \n",
       "1  abhisheknaiidu cli table content installation ...  \n",
       "2  interview preparation array sieve catalan numb...  \n",
       "3  hacktoberfest 2020 hacktoberfest encourages pa...  \n",
       "4  apop apop hd music stream sharing application ...  "
      ]
     },
     "execution_count": 2,
     "metadata": {},
     "output_type": "execute_result"
    }
   ],
   "source": [
    "# You can pass a threshold argument but the default is 75\n",
    "df = get_readme_data()\n",
    "df.head()"
   ]
  },
  {
   "cell_type": "code",
   "execution_count": 3,
   "id": "5204c592",
   "metadata": {},
   "outputs": [
    {
     "name": "stdout",
     "output_type": "stream",
     "text": [
      "<class 'pandas.core.frame.DataFrame'>\n",
      "Int64Index: 13792 entries, 0 to 13791\n",
      "Data columns (total 5 columns):\n",
      " #   Column      Non-Null Count  Dtype \n",
      "---  ------      --------------  ----- \n",
      " 0   readme      13777 non-null  object\n",
      " 1   prog_lang   13792 non-null  object\n",
      " 2   original    13792 non-null  object\n",
      " 3   stemmed     13777 non-null  object\n",
      " 4   lemmatized  13777 non-null  object\n",
      "dtypes: object(5)\n",
      "memory usage: 646.5+ KB\n"
     ]
    }
   ],
   "source": [
    "df.info()"
   ]
  },
  {
   "cell_type": "markdown",
   "id": "3e7c49f8",
   "metadata": {},
   "source": [
    "There are a few null values for the README content. Since there are so many entries, I'll just drop those rows for now."
   ]
  },
  {
   "cell_type": "code",
   "execution_count": 4,
   "id": "2aa34091",
   "metadata": {},
   "outputs": [],
   "source": [
    "df = df.dropna()"
   ]
  },
  {
   "cell_type": "code",
   "execution_count": 5,
   "id": "00d1c195",
   "metadata": {},
   "outputs": [
    {
     "name": "stdout",
     "output_type": "stream",
     "text": [
      "<class 'pandas.core.frame.DataFrame'>\n",
      "Int64Index: 13777 entries, 0 to 13791\n",
      "Data columns (total 5 columns):\n",
      " #   Column      Non-Null Count  Dtype \n",
      "---  ------      --------------  ----- \n",
      " 0   readme      13777 non-null  object\n",
      " 1   prog_lang   13777 non-null  object\n",
      " 2   original    13777 non-null  object\n",
      " 3   stemmed     13777 non-null  object\n",
      " 4   lemmatized  13777 non-null  object\n",
      "dtypes: object(5)\n",
      "memory usage: 645.8+ KB\n"
     ]
    }
   ],
   "source": [
    "df.info()"
   ]
  },
  {
   "cell_type": "markdown",
   "id": "0d30c664",
   "metadata": {},
   "source": [
    "__What are the most popular programming languages?__\n",
    "\n",
    "Next, I will determine what the top 4 most common languages are. Since there are so many others languages available, I will group the others into a bin called 'others'.\n",
    "\n",
    "I will also group the languages 'Jupyter Notebook' and 'Python' together, since code written in jupyter notebooks is most commonly Python. "
   ]
  },
  {
   "cell_type": "code",
   "execution_count": 6,
   "id": "4e46369c",
   "metadata": {},
   "outputs": [
    {
     "data": {
      "text/plain": [
       "JavaScript          3120\n",
       "Python              2802\n",
       "Jupyter Notebook    1642\n",
       "Java                1174\n",
       "HTML                 941\n",
       "Name: prog_lang, dtype: int64"
      ]
     },
     "execution_count": 6,
     "metadata": {},
     "output_type": "execute_result"
    }
   ],
   "source": [
    "df.prog_lang.value_counts(normalize = False).head()"
   ]
  },
  {
   "cell_type": "markdown",
   "id": "0ce055a7",
   "metadata": {},
   "source": [
    "After looking at the numbers above, I will set the target labels to be 'Javascript', 'Python', 'Java', 'HTML', and 'Other'.\n",
    "\n",
    "Now I will go ahead and group as stated earlier."
   ]
  },
  {
   "cell_type": "code",
   "execution_count": 7,
   "id": "3ea6fd1b",
   "metadata": {},
   "outputs": [],
   "source": [
    "#Create a function that changes the programming language label as necessary\n",
    "def change_lang(string):\n",
    "    \"\"\"\n",
    "    This function will take in a programming language name as a string, \n",
    "    and change it as so:\n",
    "    \n",
    "    JavaScript -> JavaScript\n",
    "    Python -> Python\n",
    "    Jupyter Notebook -> Python\n",
    "    Java -> Java\n",
    "    HTML -> HTML\n",
    "    Anything Else -> Other\n",
    "    \"\"\"\n",
    "    \n",
    "    if string == 'JavaScript':\n",
    "        return string\n",
    "    elif string == 'Jupyter Notebook' or string == 'Python':\n",
    "        return 'Python'\n",
    "    elif string == 'Java':\n",
    "        return string\n",
    "    elif string == 'HTML':\n",
    "        return string\n",
    "    else:\n",
    "        return 'Other'\n"
   ]
  },
  {
   "cell_type": "code",
   "execution_count": 8,
   "id": "412f22d6",
   "metadata": {},
   "outputs": [],
   "source": [
    "#Apply the change_lang function to the df\n",
    "df.prog_lang = df.prog_lang.apply(change_lang)"
   ]
  },
  {
   "cell_type": "code",
   "execution_count": 9,
   "id": "2d76f685",
   "metadata": {},
   "outputs": [
    {
     "data": {
      "text/plain": [
       "Python        4444\n",
       "Other         4098\n",
       "JavaScript    3120\n",
       "Java          1174\n",
       "HTML           941\n",
       "Name: prog_lang, dtype: int64"
      ]
     },
     "execution_count": 9,
     "metadata": {},
     "output_type": "execute_result"
    }
   ],
   "source": [
    "df.prog_lang.value_counts()"
   ]
  },
  {
   "cell_type": "code",
   "execution_count": 41,
   "id": "91b44a3d",
   "metadata": {},
   "outputs": [],
   "source": [
    "#Create a function to get the character count of each doc\n",
    "def get_char_count(string):\n",
    "    \"\"\"\n",
    "    This function will take in a string and return the number of characters in it.\n",
    "    \"\"\"\n",
    "    \n",
    "    return len(string)"
   ]
  },
  {
   "cell_type": "code",
   "execution_count": 46,
   "id": "eab4fcb4",
   "metadata": {},
   "outputs": [],
   "source": [
    "#apply the above function to get the character counts of the lemmatized docs\n",
    "df['lem_char_count'] = df.lemmatized.apply(get_char_count)"
   ]
  },
  {
   "cell_type": "code",
   "execution_count": 48,
   "id": "8c310ece",
   "metadata": {},
   "outputs": [],
   "source": [
    "#Now create a function to get the word count of the lemmatized docs\n",
    "def get_word_count(string):\n",
    "    \"\"\"\n",
    "    This function will take in a string and return the number of words in that string.\n",
    "    This function will include repeat words.\n",
    "    \"\"\"\n",
    "    \n",
    "    #Create a list of words separated by a space\n",
    "    words = string.split()\n",
    "    \n",
    "    return len(words)"
   ]
  },
  {
   "cell_type": "code",
   "execution_count": 49,
   "id": "56104609",
   "metadata": {},
   "outputs": [],
   "source": [
    "#apply the above function to get the word counts of the lemmatized docs\n",
    "df['lem_word_count'] = df.lemmatized.apply(get_word_count)"
   ]
  },
  {
   "cell_type": "code",
   "execution_count": 51,
   "id": "46c48115",
   "metadata": {},
   "outputs": [],
   "source": [
    "#Create a function that gets the unique word count\n",
    "def get_unique_words(string):\n",
    "    \"\"\"\n",
    "    This function will take in a string and return the number of unique words in that string.\n",
    "    \"\"\"\n",
    "    \n",
    "    words = string.split()\n",
    "    words = set(words)\n",
    "    \n",
    "    return len(words)"
   ]
  },
  {
   "cell_type": "code",
   "execution_count": 52,
   "id": "b277df22",
   "metadata": {},
   "outputs": [],
   "source": [
    "#Apply the above function to get the unique word counts of the lemmatized docs\n",
    "df['lem_unique_word_count'] = df.lemmatized.apply(get_unique_words)"
   ]
  },
  {
   "cell_type": "code",
   "execution_count": 54,
   "id": "2fd0dbd4",
   "metadata": {},
   "outputs": [],
   "source": [
    "#Create a function to get the number of sentences in a string\n",
    "def get_sentence_count(string):\n",
    "    \"\"\"\n",
    "    This function will take in a string and return the number of sentences in that string.\n",
    "    \"\"\"\n",
    "    \n",
    "    sentences = nltk.sent_tokenize(string)\n",
    "    \n",
    "    return len(sentences)"
   ]
  },
  {
   "cell_type": "code",
   "execution_count": 56,
   "id": "c729956d",
   "metadata": {},
   "outputs": [
    {
     "name": "stderr",
     "output_type": "stream",
     "text": [
      "[nltk_data] Downloading package punkt to\n",
      "[nltk_data]     /Users/johnathonsmith/nltk_data...\n",
      "[nltk_data]   Unzipping tokenizers/punkt.zip.\n"
     ]
    },
    {
     "data": {
      "text/plain": [
       "True"
      ]
     },
     "execution_count": 56,
     "metadata": {},
     "output_type": "execute_result"
    }
   ],
   "source": [
    "#For first time use\n",
    "nltk.download('punkt')"
   ]
  },
  {
   "cell_type": "code",
   "execution_count": 57,
   "id": "6634a54b",
   "metadata": {},
   "outputs": [],
   "source": [
    "#Apply the above function to get the unique word counts of the lemmatized docs\n",
    "df['sentence_count'] = df.original.apply(get_sentence_count)"
   ]
  },
  {
   "cell_type": "code",
   "execution_count": 63,
   "id": "d6623039",
   "metadata": {},
   "outputs": [],
   "source": [
    "#Get the average number of words per sentence\n",
    "df['avg_words_per_sentence'] = round(df.lem_word_count / df.sentence_count).astype(int)"
   ]
  },
  {
   "cell_type": "code",
   "execution_count": 66,
   "id": "b60f211d",
   "metadata": {},
   "outputs": [
    {
     "name": "stderr",
     "output_type": "stream",
     "text": [
      "[nltk_data] Downloading package vader_lexicon to\n",
      "[nltk_data]     /Users/johnathonsmith/nltk_data...\n"
     ]
    },
    {
     "data": {
      "text/plain": [
       "True"
      ]
     },
     "execution_count": 66,
     "metadata": {},
     "output_type": "execute_result"
    }
   ],
   "source": [
    "#For first use\n",
    "nltk.download('vader_lexicon')"
   ]
  },
  {
   "cell_type": "code",
   "execution_count": 69,
   "id": "d135d643",
   "metadata": {},
   "outputs": [],
   "source": [
    "#Now create a function to get the sentiment analysis of each original doc\n",
    "def get_sentiment_compound(string):\n",
    "    \"\"\"\n",
    "    This function will take in a string analyze the sentiment, and return the compound\n",
    "    value.\n",
    "    \"\"\"\n",
    "    \n",
    "    sia = nltk.sentiment.SentimentIntensityAnalyzer()\n",
    "    \n",
    "    #sia returns a dict, so access the compound score accordingly\n",
    "    compound = sia.polarity_scores(string)['compound']\n",
    "    \n",
    "    return compound"
   ]
  },
  {
   "cell_type": "code",
   "execution_count": 71,
   "id": "d5de0a61",
   "metadata": {},
   "outputs": [],
   "source": [
    "#apply the above function to the original docs\n",
    "df['sentiment'] = df.original.apply(get_sentiment_compound)"
   ]
  },
  {
   "cell_type": "code",
   "execution_count": 76,
   "id": "0a138b69",
   "metadata": {},
   "outputs": [],
   "source": [
    "#Create a function to get the stopword counts from the original doc\n",
    "def get_stopword_count(string):\n",
    "    \"\"\"\n",
    "    This function takes in a string and returns the number of stopwords in that string.\n",
    "    \"\"\"\n",
    "    \n",
    "    #Create a list of the words in the string\n",
    "    words = string.split()\n",
    "    \n",
    "    #Initialize the count var\n",
    "    count = 0\n",
    "    \n",
    "    #Loop through each word and check whether or not it is in the stopword dict\n",
    "    #If it is, increase count by 1\n",
    "    \n",
    "    for word in words:\n",
    "        if word in stopwords.words('english'):\n",
    "            count += 1\n",
    "    \n",
    "    return count"
   ]
  },
  {
   "cell_type": "code",
   "execution_count": 77,
   "id": "d2014a02",
   "metadata": {},
   "outputs": [],
   "source": [
    "df['stopword_count'] = df.original.apply(get_stopword_count)"
   ]
  },
  {
   "cell_type": "code",
   "execution_count": 81,
   "id": "bf445821",
   "metadata": {},
   "outputs": [],
   "source": [
    "#Create a column for the stopword to word ratio\n",
    "df['word_stopword_ratio'] = round(df.stopword_count / df.lem_word_count, 2)"
   ]
  },
  {
   "cell_type": "code",
   "execution_count": 82,
   "id": "d1ecef40",
   "metadata": {},
   "outputs": [
    {
     "data": {
      "text/html": [
       "<div>\n",
       "<style scoped>\n",
       "    .dataframe tbody tr th:only-of-type {\n",
       "        vertical-align: middle;\n",
       "    }\n",
       "\n",
       "    .dataframe tbody tr th {\n",
       "        vertical-align: top;\n",
       "    }\n",
       "\n",
       "    .dataframe thead th {\n",
       "        text-align: right;\n",
       "    }\n",
       "</style>\n",
       "<table border=\"1\" class=\"dataframe\">\n",
       "  <thead>\n",
       "    <tr style=\"text-align: right;\">\n",
       "      <th></th>\n",
       "      <th>readme</th>\n",
       "      <th>prog_lang</th>\n",
       "      <th>original</th>\n",
       "      <th>stemmed</th>\n",
       "      <th>lemmatized</th>\n",
       "      <th>char_count</th>\n",
       "      <th>lem_char_count</th>\n",
       "      <th>lem_word_count</th>\n",
       "      <th>lem_unique_word_count</th>\n",
       "      <th>sentence_count</th>\n",
       "      <th>avg_words_per_sentence</th>\n",
       "      <th>sentiment</th>\n",
       "      <th>stopword_count</th>\n",
       "      <th>word_stopword_ratio</th>\n",
       "    </tr>\n",
       "  </thead>\n",
       "  <tbody>\n",
       "    <tr>\n",
       "      <th>0</th>\n",
       "      <td>wip</td>\n",
       "      <td>JavaScript</td>\n",
       "      <td>🚧  WIP</td>\n",
       "      <td>wip</td>\n",
       "      <td>wip</td>\n",
       "      <td>6</td>\n",
       "      <td>3</td>\n",
       "      <td>1</td>\n",
       "      <td>1</td>\n",
       "      <td>1</td>\n",
       "      <td>1</td>\n",
       "      <td>0.0000</td>\n",
       "      <td>0</td>\n",
       "      <td>0.00</td>\n",
       "    </tr>\n",
       "    <tr>\n",
       "      <th>1</th>\n",
       "      <td>abhisheknaiidu cli table contents installation...</td>\n",
       "      <td>JavaScript</td>\n",
       "      <td>abhisheknaiidu The   CLI Table of Contents Ins...</td>\n",
       "      <td>abhisheknaiidu cli tabl content instal built l...</td>\n",
       "      <td>abhisheknaiidu cli table content installation ...</td>\n",
       "      <td>653</td>\n",
       "      <td>501</td>\n",
       "      <td>67</td>\n",
       "      <td>59</td>\n",
       "      <td>5</td>\n",
       "      <td>13</td>\n",
       "      <td>0.8658</td>\n",
       "      <td>20</td>\n",
       "      <td>0.30</td>\n",
       "    </tr>\n",
       "    <tr>\n",
       "      <th>2</th>\n",
       "      <td>interview preparation arrays sieve catalan num...</td>\n",
       "      <td>Other</td>\n",
       "      <td>Interview Preparation Arrays  Sieve  Catalan N...</td>\n",
       "      <td>interview prepar array siev catalan number sli...</td>\n",
       "      <td>interview preparation array sieve catalan numb...</td>\n",
       "      <td>7078</td>\n",
       "      <td>5876</td>\n",
       "      <td>872</td>\n",
       "      <td>339</td>\n",
       "      <td>11</td>\n",
       "      <td>79</td>\n",
       "      <td>0.9891</td>\n",
       "      <td>147</td>\n",
       "      <td>0.17</td>\n",
       "    </tr>\n",
       "    <tr>\n",
       "      <th>3</th>\n",
       "      <td>hacktoberfest 2020 hacktoberfest encourages pa...</td>\n",
       "      <td>JavaScript</td>\n",
       "      <td>Hacktoberfest 2020  🎉 🗣  Hacktoberfest encour...</td>\n",
       "      <td>hacktoberfest 2020 hacktoberfest encourag part...</td>\n",
       "      <td>hacktoberfest 2020 hacktoberfest encourages pa...</td>\n",
       "      <td>702</td>\n",
       "      <td>546</td>\n",
       "      <td>68</td>\n",
       "      <td>60</td>\n",
       "      <td>6</td>\n",
       "      <td>11</td>\n",
       "      <td>0.7088</td>\n",
       "      <td>24</td>\n",
       "      <td>0.35</td>\n",
       "    </tr>\n",
       "    <tr>\n",
       "      <th>4</th>\n",
       "      <td>apop apop hd music stream sharing application ...</td>\n",
       "      <td>JavaScript</td>\n",
       "      <td>A-POP  🎶 A-POP  is a HD Music Stream and Shar...</td>\n",
       "      <td>apop apop hd music stream share applic built o...</td>\n",
       "      <td>apop apop hd music stream sharing application ...</td>\n",
       "      <td>1340</td>\n",
       "      <td>1053</td>\n",
       "      <td>139</td>\n",
       "      <td>98</td>\n",
       "      <td>6</td>\n",
       "      <td>23</td>\n",
       "      <td>0.9421</td>\n",
       "      <td>47</td>\n",
       "      <td>0.34</td>\n",
       "    </tr>\n",
       "    <tr>\n",
       "      <th>...</th>\n",
       "      <td>...</td>\n",
       "      <td>...</td>\n",
       "      <td>...</td>\n",
       "      <td>...</td>\n",
       "      <td>...</td>\n",
       "      <td>...</td>\n",
       "      <td>...</td>\n",
       "      <td>...</td>\n",
       "      <td>...</td>\n",
       "      <td>...</td>\n",
       "      <td>...</td>\n",
       "      <td>...</td>\n",
       "      <td>...</td>\n",
       "      <td>...</td>\n",
       "    </tr>\n",
       "    <tr>\n",
       "      <th>13787</th>\n",
       "      <td>stockhawk</td>\n",
       "      <td>Java</td>\n",
       "      <td>Stock-Hawk</td>\n",
       "      <td>stockhawk</td>\n",
       "      <td>stockhawk</td>\n",
       "      <td>10</td>\n",
       "      <td>9</td>\n",
       "      <td>1</td>\n",
       "      <td>1</td>\n",
       "      <td>1</td>\n",
       "      <td>1</td>\n",
       "      <td>0.0000</td>\n",
       "      <td>0</td>\n",
       "      <td>0.00</td>\n",
       "    </tr>\n",
       "    <tr>\n",
       "      <th>13788</th>\n",
       "      <td>vscodenbpreviewer extension supercharging data...</td>\n",
       "      <td>JavaScript</td>\n",
       "      <td>vscode-nbpreviewer An extension for supercharg...</td>\n",
       "      <td>vscodenbpreview extens supercharg data scienc ...</td>\n",
       "      <td>vscodenbpreviewer extension supercharging data...</td>\n",
       "      <td>316</td>\n",
       "      <td>268</td>\n",
       "      <td>35</td>\n",
       "      <td>27</td>\n",
       "      <td>3</td>\n",
       "      <td>12</td>\n",
       "      <td>0.0000</td>\n",
       "      <td>9</td>\n",
       "      <td>0.26</td>\n",
       "    </tr>\n",
       "    <tr>\n",
       "      <th>13789</th>\n",
       "      <td>solution avito demand competition peter hurfor...</td>\n",
       "      <td>Python</td>\n",
       "      <td>Solution to the Avito Demand Competition by Pe...</td>\n",
       "      <td>solut avito demand competit peter hurford lear...</td>\n",
       "      <td>solution avito demand competition peter hurfor...</td>\n",
       "      <td>652</td>\n",
       "      <td>478</td>\n",
       "      <td>72</td>\n",
       "      <td>57</td>\n",
       "      <td>11</td>\n",
       "      <td>7</td>\n",
       "      <td>0.2263</td>\n",
       "      <td>27</td>\n",
       "      <td>0.38</td>\n",
       "    </tr>\n",
       "    <tr>\n",
       "      <th>13790</th>\n",
       "      <td>terminalleetcode terminalleetcode terminal bas...</td>\n",
       "      <td>Python</td>\n",
       "      <td>Terminal-Leetcode Terminal-Leetcode is a termi...</td>\n",
       "      <td>terminalleetcod terminalleetcod termin base le...</td>\n",
       "      <td>terminalleetcode terminalleetcode terminal bas...</td>\n",
       "      <td>3258</td>\n",
       "      <td>2345</td>\n",
       "      <td>379</td>\n",
       "      <td>169</td>\n",
       "      <td>41</td>\n",
       "      <td>9</td>\n",
       "      <td>0.9833</td>\n",
       "      <td>176</td>\n",
       "      <td>0.46</td>\n",
       "    </tr>\n",
       "    <tr>\n",
       "      <th>13791</th>\n",
       "      <td>tf_cnnvis tf_cnnvis cnn visualization library ...</td>\n",
       "      <td>Python</td>\n",
       "      <td>tf_cnnvis tf_cnnvis is a CNN visualization lib...</td>\n",
       "      <td>tf_cnnvi tf_cnnvi cnn visual librari use bette...</td>\n",
       "      <td>tf_cnnvis tf_cnnvis cnn visualization library ...</td>\n",
       "      <td>5508</td>\n",
       "      <td>4184</td>\n",
       "      <td>515</td>\n",
       "      <td>210</td>\n",
       "      <td>19</td>\n",
       "      <td>27</td>\n",
       "      <td>0.9924</td>\n",
       "      <td>197</td>\n",
       "      <td>0.38</td>\n",
       "    </tr>\n",
       "  </tbody>\n",
       "</table>\n",
       "<p>13777 rows × 14 columns</p>\n",
       "</div>"
      ],
      "text/plain": [
       "                                                  readme   prog_lang  \\\n",
       "0                                                    wip  JavaScript   \n",
       "1      abhisheknaiidu cli table contents installation...  JavaScript   \n",
       "2      interview preparation arrays sieve catalan num...       Other   \n",
       "3      hacktoberfest 2020 hacktoberfest encourages pa...  JavaScript   \n",
       "4      apop apop hd music stream sharing application ...  JavaScript   \n",
       "...                                                  ...         ...   \n",
       "13787                                          stockhawk        Java   \n",
       "13788  vscodenbpreviewer extension supercharging data...  JavaScript   \n",
       "13789  solution avito demand competition peter hurfor...      Python   \n",
       "13790  terminalleetcode terminalleetcode terminal bas...      Python   \n",
       "13791  tf_cnnvis tf_cnnvis cnn visualization library ...      Python   \n",
       "\n",
       "                                                original  \\\n",
       "0                                                 🚧  WIP   \n",
       "1      abhisheknaiidu The   CLI Table of Contents Ins...   \n",
       "2      Interview Preparation Arrays  Sieve  Catalan N...   \n",
       "3       Hacktoberfest 2020  🎉 🗣  Hacktoberfest encour...   \n",
       "4       A-POP  🎶 A-POP  is a HD Music Stream and Shar...   \n",
       "...                                                  ...   \n",
       "13787                                         Stock-Hawk   \n",
       "13788  vscode-nbpreviewer An extension for supercharg...   \n",
       "13789  Solution to the Avito Demand Competition by Pe...   \n",
       "13790  Terminal-Leetcode Terminal-Leetcode is a termi...   \n",
       "13791  tf_cnnvis tf_cnnvis is a CNN visualization lib...   \n",
       "\n",
       "                                                 stemmed  \\\n",
       "0                                                    wip   \n",
       "1      abhisheknaiidu cli tabl content instal built l...   \n",
       "2      interview prepar array siev catalan number sli...   \n",
       "3      hacktoberfest 2020 hacktoberfest encourag part...   \n",
       "4      apop apop hd music stream share applic built o...   \n",
       "...                                                  ...   \n",
       "13787                                          stockhawk   \n",
       "13788  vscodenbpreview extens supercharg data scienc ...   \n",
       "13789  solut avito demand competit peter hurford lear...   \n",
       "13790  terminalleetcod terminalleetcod termin base le...   \n",
       "13791  tf_cnnvi tf_cnnvi cnn visual librari use bette...   \n",
       "\n",
       "                                              lemmatized  char_count  \\\n",
       "0                                                    wip           6   \n",
       "1      abhisheknaiidu cli table content installation ...         653   \n",
       "2      interview preparation array sieve catalan numb...        7078   \n",
       "3      hacktoberfest 2020 hacktoberfest encourages pa...         702   \n",
       "4      apop apop hd music stream sharing application ...        1340   \n",
       "...                                                  ...         ...   \n",
       "13787                                          stockhawk          10   \n",
       "13788  vscodenbpreviewer extension supercharging data...         316   \n",
       "13789  solution avito demand competition peter hurfor...         652   \n",
       "13790  terminalleetcode terminalleetcode terminal bas...        3258   \n",
       "13791  tf_cnnvis tf_cnnvis cnn visualization library ...        5508   \n",
       "\n",
       "       lem_char_count  lem_word_count  lem_unique_word_count  sentence_count  \\\n",
       "0                   3               1                      1               1   \n",
       "1                 501              67                     59               5   \n",
       "2                5876             872                    339              11   \n",
       "3                 546              68                     60               6   \n",
       "4                1053             139                     98               6   \n",
       "...               ...             ...                    ...             ...   \n",
       "13787               9               1                      1               1   \n",
       "13788             268              35                     27               3   \n",
       "13789             478              72                     57              11   \n",
       "13790            2345             379                    169              41   \n",
       "13791            4184             515                    210              19   \n",
       "\n",
       "       avg_words_per_sentence  sentiment  stopword_count  word_stopword_ratio  \n",
       "0                           1     0.0000               0                 0.00  \n",
       "1                          13     0.8658              20                 0.30  \n",
       "2                          79     0.9891             147                 0.17  \n",
       "3                          11     0.7088              24                 0.35  \n",
       "4                          23     0.9421              47                 0.34  \n",
       "...                       ...        ...             ...                  ...  \n",
       "13787                       1     0.0000               0                 0.00  \n",
       "13788                      12     0.0000               9                 0.26  \n",
       "13789                       7     0.2263              27                 0.38  \n",
       "13790                       9     0.9833             176                 0.46  \n",
       "13791                      27     0.9924             197                 0.38  \n",
       "\n",
       "[13777 rows x 14 columns]"
      ]
     },
     "execution_count": 82,
     "metadata": {},
     "output_type": "execute_result"
    }
   ],
   "source": [
    "df"
   ]
  },
  {
   "cell_type": "markdown",
   "id": "3a000abd",
   "metadata": {},
   "source": [
    "Now that the languages have been grouped appropriately, I will split the df into train, validate, and test sets. After that, I will begin exploring only on the train data set.d"
   ]
  },
  {
   "cell_type": "markdown",
   "id": "4498fe07",
   "metadata": {},
   "source": [
    "__Splitting the Data__"
   ]
  },
  {
   "cell_type": "code",
   "execution_count": 10,
   "id": "218f1dc0",
   "metadata": {},
   "outputs": [],
   "source": [
    "from sklearn.model_selection import train_test_split\n",
    "\n",
    "#The following function will be used in the prep functions to return the train, validate, and test splits\n",
    "def train_validate_test_split(df, target, seed = 123):\n",
    "    '''\n",
    "    This function takes in a dataframe, the name of the target variable\n",
    "    (for stratification purposes), and an integer for a setting a seed\n",
    "    and splits the data into train, validate and test. \n",
    "    Test is 20% of the original dataset, validate is .30*.80= 24% of the \n",
    "    original dataset, and train is .70*.80= 56% of the original dataset. \n",
    "    The function returns, in this order, train, validate and test dataframes. \n",
    "    '''\n",
    "    train_validate, test = train_test_split(df, test_size=0.2, \n",
    "                                            random_state=seed, \n",
    "                                            stratify=df[target])\n",
    "    \n",
    "    train, validate = train_test_split(train_validate, test_size=0.3, \n",
    "                                       random_state=seed,\n",
    "                                       stratify=train_validate[target])\n",
    "    return train, validate, test"
   ]
  },
  {
   "cell_type": "code",
   "execution_count": 83,
   "id": "5b5accb1",
   "metadata": {},
   "outputs": [
    {
     "data": {
      "text/plain": [
       "((7714, 14), (3307, 14), (2756, 14))"
      ]
     },
     "execution_count": 83,
     "metadata": {},
     "output_type": "execute_result"
    }
   ],
   "source": [
    "#Split the data and stratify across programming language\n",
    "train, validate, test = train_validate_test_split(df, 'prog_lang')\n",
    "train.shape, validate.shape, test.shape"
   ]
  },
  {
   "cell_type": "markdown",
   "id": "49d1e88b",
   "metadata": {},
   "source": [
    "### Explore the Data\n",
    "\n",
    "Now I will begin exploring on only the train data set.\n",
    "\n",
    "I will first separate each language into its own group for easier exploration."
   ]
  },
  {
   "cell_type": "code",
   "execution_count": 84,
   "id": "8d692a9d",
   "metadata": {},
   "outputs": [
    {
     "data": {
      "text/plain": [
       "Python        2488\n",
       "Other         2295\n",
       "JavaScript    1747\n",
       "Java           657\n",
       "HTML           527\n",
       "Name: prog_lang, dtype: int64"
      ]
     },
     "execution_count": 84,
     "metadata": {},
     "output_type": "execute_result"
    }
   ],
   "source": [
    "#Before we begin, what are the train value counts?\n",
    "train.prog_lang.value_counts()"
   ]
  },
  {
   "cell_type": "code",
   "execution_count": 85,
   "id": "02f3ed98",
   "metadata": {},
   "outputs": [],
   "source": [
    "#Split into language groups\n",
    "python = train[train.prog_lang == 'Python']\n",
    "js = train[train.prog_lang == 'JavaScript']\n",
    "java = train[train.prog_lang == 'Java']\n",
    "html = train[train.prog_lang == 'HTML']\n",
    "other = train[train.prog_lang == 'Other']"
   ]
  },
  {
   "cell_type": "markdown",
   "id": "ad1f8211",
   "metadata": {},
   "source": [
    "Now, I will get the frequencies of all the words in each category, add them to a df, and begin comparing them."
   ]
  },
  {
   "cell_type": "code",
   "execution_count": 86,
   "id": "2e1e4610",
   "metadata": {},
   "outputs": [],
   "source": [
    "#First, I need to combine all the lemmatized text from each category\n",
    "python_words = ' '.join(python.lemmatized)\n",
    "js_words = ' '.join(js.lemmatized)\n",
    "java_words = ' '.join(java.lemmatized)\n",
    "html_words = ' '.join(html.lemmatized)\n",
    "other_words = ' '.join(html.lemmatized)\n",
    "#I will also do this for the train set as a whole\n",
    "all_words = ' '.join(train.lemmatized)"
   ]
  },
  {
   "cell_type": "code",
   "execution_count": 87,
   "id": "354bb627",
   "metadata": {},
   "outputs": [],
   "source": [
    "#Now, I will save the word frequencies of each group as a series\n",
    "python_freq = pd.Series(python_words.split()).value_counts()\n",
    "js_freq = pd.Series(js_words.split()).value_counts()\n",
    "java_freq = pd.Series(java_words.split()).value_counts()\n",
    "html_freq = pd.Series(html_words.split()).value_counts()\n",
    "other_freq = pd.Series(other_words.split()).value_counts()\n",
    "#Again, do this for the train set as a whole\n",
    "all_freq = pd.Series(all_words.split()).value_counts()"
   ]
  },
  {
   "cell_type": "code",
   "execution_count": 88,
   "id": "8eaea6a0",
   "metadata": {},
   "outputs": [
    {
     "data": {
      "text/html": [
       "<div>\n",
       "<style scoped>\n",
       "    .dataframe tbody tr th:only-of-type {\n",
       "        vertical-align: middle;\n",
       "    }\n",
       "\n",
       "    .dataframe tbody tr th {\n",
       "        vertical-align: top;\n",
       "    }\n",
       "\n",
       "    .dataframe thead th {\n",
       "        text-align: right;\n",
       "    }\n",
       "</style>\n",
       "<table border=\"1\" class=\"dataframe\">\n",
       "  <thead>\n",
       "    <tr style=\"text-align: right;\">\n",
       "      <th></th>\n",
       "      <th>Python</th>\n",
       "      <th>JavaScript</th>\n",
       "      <th>Java</th>\n",
       "      <th>HTML</th>\n",
       "      <th>Other</th>\n",
       "      <th>All</th>\n",
       "    </tr>\n",
       "  </thead>\n",
       "  <tbody>\n",
       "    <tr>\n",
       "      <th>yes</th>\n",
       "      <td>16001</td>\n",
       "      <td>162</td>\n",
       "      <td>25</td>\n",
       "      <td>5</td>\n",
       "      <td>5</td>\n",
       "      <td>16326</td>\n",
       "    </tr>\n",
       "    <tr>\n",
       "      <th>unknown</th>\n",
       "      <td>10402</td>\n",
       "      <td>37</td>\n",
       "      <td>1</td>\n",
       "      <td>2</td>\n",
       "      <td>2</td>\n",
       "      <td>10459</td>\n",
       "    </tr>\n",
       "    <tr>\n",
       "      <th>data</th>\n",
       "      <td>9647</td>\n",
       "      <td>2011</td>\n",
       "      <td>580</td>\n",
       "      <td>622</td>\n",
       "      <td>622</td>\n",
       "      <td>14670</td>\n",
       "    </tr>\n",
       "    <tr>\n",
       "      <th>python</th>\n",
       "      <td>7887</td>\n",
       "      <td>151</td>\n",
       "      <td>623</td>\n",
       "      <td>332</td>\n",
       "      <td>332</td>\n",
       "      <td>9387</td>\n",
       "    </tr>\n",
       "    <tr>\n",
       "      <th>apikey</th>\n",
       "      <td>5552</td>\n",
       "      <td>17</td>\n",
       "      <td>0</td>\n",
       "      <td>0</td>\n",
       "      <td>0</td>\n",
       "      <td>5571</td>\n",
       "    </tr>\n",
       "  </tbody>\n",
       "</table>\n",
       "</div>"
      ],
      "text/plain": [
       "         Python  JavaScript  Java  HTML  Other    All\n",
       "yes       16001         162    25     5      5  16326\n",
       "unknown   10402          37     1     2      2  10459\n",
       "data       9647        2011   580   622    622  14670\n",
       "python     7887         151   623   332    332   9387\n",
       "apikey     5552          17     0     0      0   5571"
      ]
     },
     "execution_count": 88,
     "metadata": {},
     "output_type": "execute_result"
    }
   ],
   "source": [
    "#Now concatenate each series into a single df\n",
    "word_counts = pd.concat([python_freq, js_freq, java_freq, html_freq, other_freq, all_freq], axis = 1).fillna(0).astype(int)\n",
    "word_counts.columns = ['Python', 'JavaScript', 'Java', 'HTML', 'Other', 'All']\n",
    "word_counts.head()"
   ]
  },
  {
   "cell_type": "markdown",
   "id": "eb7019cc",
   "metadata": {},
   "source": [
    "Now I will create a visualization of the top 20 most common words and compare across languages."
   ]
  },
  {
   "cell_type": "code",
   "execution_count": 89,
   "id": "8e393237",
   "metadata": {},
   "outputs": [
    {
     "data": {
      "image/png": "[encoded data removed]",
      "text/plain": [
       "<Figure size 936x504 with 1 Axes>"
      ]
     },
     "metadata": {},
     "output_type": "display_data"
    }
   ],
   "source": [
    "plt.rc('font', size=18)\n",
    "word_counts.sort_values('All', ascending=False).head(20)[['Python', 'JavaScript', 'Java', 'HTML', 'Other']].plot.barh()\n",
    "plt.title('Word count for the top 20 most frequent words')\n",
    "plt.show()"
   ]
  },
  {
   "cell_type": "markdown",
   "id": "81c4edc6",
   "metadata": {},
   "source": [
    "__Key Takeaways:__\n",
    "    \n",
    "* Although it's hard to see, you can tell that the words 'yes', 'unknown', 'python', 'api', 'library', and 'open' are mostly in python documents.\n",
    "* The words 'gt', 'function', 'test', and 'app' are mostly in JavaScript docs."
   ]
  },
  {
   "cell_type": "code",
   "execution_count": 93,
   "id": "d20fff1a",
   "metadata": {},
   "outputs": [
    {
     "data": {
      "text/plain": [
       "prog_lang\n",
       "HTML          0.262713\n",
       "Java          0.256667\n",
       "JavaScript    0.399954\n",
       "Other         0.322362\n",
       "Python        0.325096\n",
       "Name: word_stopword_ratio, dtype: float64"
      ]
     },
     "execution_count": 93,
     "metadata": {},
     "output_type": "execute_result"
    }
   ],
   "source": [
    "#Compare average stopword ratios\n",
    "train.groupby('prog_lang').word_stopword_ratio.mean()"
   ]
  },
  {
   "cell_type": "markdown",
   "id": "9fd826d6",
   "metadata": {},
   "source": [
    "Javascript and HTML both have smaller stopword ratios than the other languages."
   ]
  },
  {
   "cell_type": "code",
   "execution_count": 94,
   "id": "e798448b",
   "metadata": {},
   "outputs": [
    {
     "data": {
      "text/plain": [
       "prog_lang\n",
       "HTML          0.19\n",
       "Java          0.22\n",
       "JavaScript    0.42\n",
       "Other         0.33\n",
       "Python        0.33\n",
       "Name: word_stopword_ratio, dtype: float64"
      ]
     },
     "execution_count": 94,
     "metadata": {},
     "output_type": "execute_result"
    }
   ],
   "source": [
    "#Compare median stopword ratios\n",
    "train.groupby('prog_lang').word_stopword_ratio.median()"
   ]
  },
  {
   "cell_type": "markdown",
   "id": "b72e0eb6",
   "metadata": {},
   "source": [
    "Pretty much the same results, but its easier to see that the Javascript docs have far more stopwords than the other languages."
   ]
  },
  {
   "cell_type": "code",
   "execution_count": 99,
   "id": "bcb6f4ba",
   "metadata": {},
   "outputs": [
    {
     "data": {
      "image/png": "[encoded data removed]",
      "text/plain": [
       "<Figure size 936x504 with 1 Axes>"
      ]
     },
     "metadata": {},
     "output_type": "display_data"
    }
   ],
   "source": [
    "#Visualize the difference\n",
    "train.groupby('prog_lang').word_stopword_ratio.median().plot.barh()\n",
    "plt.show()"
   ]
  },
  {
   "cell_type": "code",
   "execution_count": 100,
   "id": "26c6f5b9",
   "metadata": {},
   "outputs": [
    {
     "data": {
      "text/plain": [
       "prog_lang\n",
       "HTML          0.293673\n",
       "Java          0.331147\n",
       "JavaScript    0.570910\n",
       "Other         0.457769\n",
       "Python        0.421472\n",
       "Name: sentiment, dtype: float64"
      ]
     },
     "execution_count": 100,
     "metadata": {},
     "output_type": "execute_result"
    }
   ],
   "source": [
    "#Compare the average sentiment per language\n",
    "train.groupby('prog_lang').sentiment.mean()"
   ]
  },
  {
   "cell_type": "markdown",
   "id": "21f80f1b",
   "metadata": {},
   "source": [
    "Again, Java and HTML are very different from the others."
   ]
  },
  {
   "cell_type": "code",
   "execution_count": 101,
   "id": "d3d6bc50",
   "metadata": {},
   "outputs": [
    {
     "data": {
      "text/plain": [
       "prog_lang\n",
       "HTML          0.00000\n",
       "Java          0.00000\n",
       "JavaScript    0.85550\n",
       "Other         0.51060\n",
       "Python        0.45165\n",
       "Name: sentiment, dtype: float64"
      ]
     },
     "execution_count": 101,
     "metadata": {},
     "output_type": "execute_result"
    }
   ],
   "source": [
    "#Check the median sentiment\n",
    "train.groupby('prog_lang').sentiment.median()"
   ]
  },
  {
   "cell_type": "markdown",
   "id": "d84b4ed2",
   "metadata": {},
   "source": [
    "Median sentiment for HTML and Java is 0, so that's an interesting find. Again, JavaScript stands out and has the highest median sentiment compound score."
   ]
  },
  {
   "cell_type": "code",
   "execution_count": 103,
   "id": "d8933c41",
   "metadata": {},
   "outputs": [
    {
     "data": {
      "text/plain": [
       "<AxesSubplot:ylabel='prog_lang'>"
      ]
     },
     "execution_count": 103,
     "metadata": {},
     "output_type": "execute_result"
    },
    {
     "data": {
      "image/png": "[encoded data removed]",
      "text/plain": [
       "<Figure size 936x504 with 1 Axes>"
      ]
     },
     "metadata": {},
     "output_type": "display_data"
    }
   ],
   "source": [
    "#Visualize the differences\n",
    "train.groupby('prog_lang').sentiment.median().plot.barh()"
   ]
  },
  {
   "cell_type": "code",
   "execution_count": 105,
   "id": "fc0f7e97",
   "metadata": {},
   "outputs": [
    {
     "data": {
      "text/plain": [
       "prog_lang\n",
       "HTML           78.036053\n",
       "Java           95.322679\n",
       "JavaScript    151.178592\n",
       "Other         109.326362\n",
       "Python        142.086415\n",
       "Name: lem_unique_word_count, dtype: float64"
      ]
     },
     "execution_count": 105,
     "metadata": {},
     "output_type": "execute_result"
    }
   ],
   "source": [
    "#Now check out the unique word counts per language\n",
    "train.groupby('prog_lang').lem_unique_word_count.mean()"
   ]
  },
  {
   "cell_type": "code",
   "execution_count": 106,
   "id": "814d2d7d",
   "metadata": {},
   "outputs": [
    {
     "data": {
      "text/plain": [
       "prog_lang\n",
       "HTML          10.0\n",
       "Java          20.0\n",
       "JavaScript    82.0\n",
       "Other         47.0\n",
       "Python        47.5\n",
       "Name: lem_unique_word_count, dtype: float64"
      ]
     },
     "execution_count": 106,
     "metadata": {},
     "output_type": "execute_result"
    }
   ],
   "source": [
    "train.groupby('prog_lang').lem_unique_word_count.median()"
   ]
  },
  {
   "cell_type": "markdown",
   "id": "677f4075",
   "metadata": {},
   "source": [
    "So I'm noticing the same pattern over and over again. Java and HTML are usually the lowest in the group and JavaScript is usually the highest."
   ]
  },
  {
   "cell_type": "code",
   "execution_count": 107,
   "id": "f7b970cc",
   "metadata": {},
   "outputs": [
    {
     "data": {
      "text/plain": [
       "<AxesSubplot:ylabel='prog_lang'>"
      ]
     },
     "execution_count": 107,
     "metadata": {},
     "output_type": "execute_result"
    },
    {
     "data": {
      "image/png": "[encoded data removed]",
      "text/plain": [
       "<Figure size 936x504 with 1 Axes>"
      ]
     },
     "metadata": {},
     "output_type": "display_data"
    }
   ],
   "source": [
    "#Visualize the differences\n",
    "train.groupby('prog_lang').lem_unique_word_count.median().plot.barh()"
   ]
  },
  {
   "cell_type": "code",
   "execution_count": 108,
   "id": "6449b04e",
   "metadata": {},
   "outputs": [
    {
     "data": {
      "text/plain": [
       "prog_lang\n",
       "HTML          11.163188\n",
       "Java          17.193303\n",
       "JavaScript    16.392673\n",
       "Other         18.267974\n",
       "Python        20.103296\n",
       "Name: avg_words_per_sentence, dtype: float64"
      ]
     },
     "execution_count": 108,
     "metadata": {},
     "output_type": "execute_result"
    }
   ],
   "source": [
    "#Now compare average sentence lengths per language\n",
    "train.groupby('prog_lang').avg_words_per_sentence.mean()"
   ]
  },
  {
   "cell_type": "code",
   "execution_count": 109,
   "id": "a15dcdaa",
   "metadata": {},
   "outputs": [
    {
     "data": {
      "text/plain": [
       "prog_lang\n",
       "HTML           7.0\n",
       "Java           9.0\n",
       "JavaScript    10.0\n",
       "Other         11.0\n",
       "Python        11.0\n",
       "Name: avg_words_per_sentence, dtype: float64"
      ]
     },
     "execution_count": 109,
     "metadata": {},
     "output_type": "execute_result"
    }
   ],
   "source": [
    "train.groupby('prog_lang').avg_words_per_sentence.median()"
   ]
  },
  {
   "cell_type": "markdown",
   "id": "97614522",
   "metadata": {},
   "source": [
    "So in this case, Other and Python have the most words per sentence. Might be useful in identifying them in modeling. Differences are huge though, so might not be super useful. "
   ]
  },
  {
   "cell_type": "code",
   "execution_count": 113,
   "id": "997ab90c",
   "metadata": {},
   "outputs": [
    {
     "data": {
      "image/png": "[encoded data removed]",
      "text/plain": [
       "<Figure size 936x504 with 1 Axes>"
      ]
     },
     "metadata": {},
     "output_type": "display_data"
    }
   ],
   "source": [
    "#Visualize the differences\n",
    "train.groupby('prog_lang').avg_words_per_sentence.median().plot.barh()\n",
    "plt.show()"
   ]
  },
  {
   "cell_type": "code",
   "execution_count": 114,
   "id": "5f4363f6",
   "metadata": {},
   "outputs": [
    {
     "data": {
      "text/plain": [
       "prog_lang\n",
       "HTML          16.018975\n",
       "Java          13.881279\n",
       "JavaScript    31.724671\n",
       "Other         17.389107\n",
       "Python        23.217042\n",
       "Name: sentence_count, dtype: float64"
      ]
     },
     "execution_count": 114,
     "metadata": {},
     "output_type": "execute_result"
    }
   ],
   "source": [
    "#Compare the number of sentences per lang\n",
    "train.groupby('prog_lang').sentence_count.mean()"
   ]
  },
  {
   "cell_type": "code",
   "execution_count": 115,
   "id": "67e43eac",
   "metadata": {},
   "outputs": [
    {
     "data": {
      "text/plain": [
       "prog_lang\n",
       "HTML          1.0\n",
       "Java          2.0\n",
       "JavaScript    9.0\n",
       "Other         4.0\n",
       "Python        4.0\n",
       "Name: sentence_count, dtype: float64"
      ]
     },
     "execution_count": 115,
     "metadata": {},
     "output_type": "execute_result"
    }
   ],
   "source": [
    "train.groupby('prog_lang').sentence_count.median()"
   ]
  },
  {
   "cell_type": "markdown",
   "id": "63fb67c9",
   "metadata": {},
   "source": [
    "It seems like there must be some pretty serious outliers to cause the mean and median to be so different. Based on the median, it looks like this is following the same pattern as before. Javascript has the highest, and Java and HTML have the lowest."
   ]
  },
  {
   "cell_type": "code",
   "execution_count": 117,
   "id": "54f85d69",
   "metadata": {},
   "outputs": [
    {
     "data": {
      "image/png": "[encoded data removed]",
      "text/plain": [
       "<Figure size 936x504 with 1 Axes>"
      ]
     },
     "metadata": {},
     "output_type": "display_data"
    }
   ],
   "source": [
    "#Visualize the differences\n",
    "train.groupby('prog_lang').sentence_count.median().plot.barh()\n",
    "plt.show()"
   ]
  },
  {
   "cell_type": "markdown",
   "id": "881cdf2a",
   "metadata": {},
   "source": [
    "__Key Takeaways:__\n",
    "    \n",
    "* There seem to be some significant differences between the languages for the columns checked above, so I'd like to include most of them in modeling.\n",
    "* That includes:\n",
    "    - sentiment\n",
    "    - stopword_ratio\n",
    "    - unique_word_count\n",
    "    - avg_words_per_sentence\n",
    "    - sentence_count"
   ]
  },
  {
   "cell_type": "code",
   "execution_count": null,
   "id": "a83b56ef",
   "metadata": {},
   "outputs": [],
   "source": []
  }
 ],
 "metadata": {
  "kernelspec": {
   "display_name": "Python 3",
   "language": "python",
   "name": "python3"
  },
  "language_info": {
   "codemirror_mode": {
    "name": "ipython",
    "version": 3
   },
   "file_extension": ".py",
   "mimetype": "text/x-python",
   "name": "python",
   "nbconvert_exporter": "python",
   "pygments_lexer": "ipython3",
   "version": "3.9.1"
  }
 },
 "nbformat": 4,
 "nbformat_minor": 5
}
